{
 "cells": [
  {
   "cell_type": "code",
   "execution_count": 1,
   "id": "58f6f792",
   "metadata": {},
   "outputs": [],
   "source": [
    "import os\n",
    "import pandas as pd\n",
    "import numpy as np\n",
    "\n",
    "from sklearn.model_selection import train_test_split\n",
    "from sklearn.compose import ColumnTransformer\n",
    "from sklearn.preprocessing import OneHotEncoder, StandardScaler\n",
    "from sklearn.impute import SimpleImputer\n",
    "from sklearn.pipeline import Pipeline\n",
    "from sklearn.linear_model import LogisticRegression\n",
    "from sklearn.ensemble import RandomForestClassifier, HistGradientBoostingClassifier\n",
    "from sklearn.metrics import accuracy_score, f1_score, classification_report, confusion_matrix\n",
    "import joblib\n"
   ]
  },
  {
   "cell_type": "code",
   "execution_count": 2,
   "id": "e623382f",
   "metadata": {},
   "outputs": [],
   "source": [
    "# Paths (keep as you used)\n",
    "csv_path = r\"C:\\Users\\lokan\\OneDrive\\Desktop\\DSP PROJECT\\Blood-donation.csv\"\n",
    "save_dir = r\"C:\\Users\\lokan\\OneDrive\\Desktop\\DSP PROJECT\"\n",
    "os.makedirs(save_dir, exist_ok=True)\n",
    "\n"
   ]
  },
  {
   "cell_type": "code",
   "execution_count": 3,
   "id": "5af59990",
   "metadata": {},
   "outputs": [],
   "source": [
    "# Load\n",
    "df = pd.read_csv(csv_path, sep=None, engine=\"python\", na_values=[\"NA\",\"N/A\",\"\",\" \"])\n",
    "df.columns = [c.strip().replace(\" \", \"_\") for c in df.columns]\n"
   ]
  },
  {
   "cell_type": "code",
   "execution_count": 4,
   "id": "2046110e",
   "metadata": {},
   "outputs": [],
   "source": [
    "# Target\n",
    "target_col = next((c for c in df.columns if c.lower()==\"category\"), None)\n",
    "if target_col is None:\n",
    "    raise ValueError(\"Target column 'Category' not found\")\n"
   ]
  },
  {
   "cell_type": "code",
   "execution_count": 5,
   "id": "7f92bf5a",
   "metadata": {},
   "outputs": [],
   "source": [
    "# Numeric and categorical features\n",
    "num_candidates = [\"Age\",\"ALB\",\"ALP\",\"ALT\",\"AST\",\"BIL\",\"CHE\",\"CHOL\",\"CREA\",\"GGT\",\"PROT\"]\n",
    "present_upper = {c.upper(): c for c in df.columns}\n",
    "num_cols = [present_upper[n.upper()] for n in num_candidates if n.upper() in present_upper]\n",
    "for c in num_cols:\n",
    "    df[c] = pd.to_numeric(df[c], errors=\"coerce\")\n",
    "cat_cols = []\n",
    "if \"Sex\" in df.columns:\n",
    "    df[\"Sex\"] = df[\"Sex\"].astype(str).str.strip().str.lower()\n",
    "    df.loc[df[\"Sex\"].isin([\"male\",\"m\",\"1\"]), \"Sex\"] = \"m\"\n",
    "    df.loc[df[\"Sex\"].isin([\"female\",\"f\",\"0\"]), \"Sex\"] = \"f\"\n",
    "    cat_cols.append(\"Sex\")\n"
   ]
  },
  {
   "cell_type": "code",
   "execution_count": 6,
   "id": "15c8310c",
   "metadata": {},
   "outputs": [],
   "source": [
    "# Prepare\n",
    "df = df.dropna(subset=[target_col]).reset_index(drop=True)\n",
    "X = df[num_cols + cat_cols].copy()\n",
    "y = df[target_col].astype(str).str.strip()\n"
   ]
  },
  {
   "cell_type": "code",
   "execution_count": 7,
   "id": "d8aca8d9",
   "metadata": {},
   "outputs": [],
   "source": [
    "# Preprocess: impute -> scale numerics, impute -> OHE categoricals\n",
    "num_pipe = Pipeline([\n",
    "    (\"imputer\", SimpleImputer(strategy=\"median\")),\n",
    "    (\"scaler\", StandardScaler()),\n",
    "])\n",
    "cat_pipe = Pipeline([\n",
    "    (\"imputer\", SimpleImputer(strategy=\"most_frequent\")),\n",
    "    (\"ohe\", OneHotEncoder(handle_unknown=\"ignore\", sparse_output=False)),\n",
    "])\n",
    "\n",
    "pre = ColumnTransformer(\n",
    "    transformers=[\n",
    "        (\"num\", num_pipe, num_cols),\n",
    "        (\"cat\", cat_pipe, cat_cols),\n",
    "    ],\n",
    "    remainder=\"drop\"\n",
    ")\n"
   ]
  },
  {
   "cell_type": "code",
   "execution_count": 8,
   "id": "f06740c0",
   "metadata": {},
   "outputs": [],
   "source": [
    "# Split with stratify if feasible\n",
    "strat = y if y.nunique()>1 and y.value_counts().min()>=2 else None\n",
    "X_train, X_test, y_train, y_test = train_test_split(\n",
    "    X, y, test_size=0.2, random_state=42, stratify=strat\n",
    ")\n"
   ]
  },
  {
   "cell_type": "code",
   "execution_count": 9,
   "id": "58e02664",
   "metadata": {},
   "outputs": [],
   "source": [
    "# Models\n",
    "pipe_lr = Pipeline([(\"pre\", pre), (\"clf\", LogisticRegression(\n",
    "    max_iter=5000, class_weight=\"balanced\", solver=\"lbfgs\"\n",
    "))])\n",
    "\n",
    "pipe_rf = Pipeline([(\"pre\", pre), (\"clf\", RandomForestClassifier(\n",
    "    n_estimators=600, min_samples_leaf=2, class_weight=\"balanced_subsample\",\n",
    "    random_state=42, n_jobs=-1\n",
    "))])\n",
    "\n",
    "pipe_hgb = Pipeline([(\"pre\", pre), (\"clf\", HistGradientBoostingClassifier(\n",
    "    max_depth=None, learning_rate=0.08, max_iter=500, random_state=42\n",
    "))])\n"
   ]
  },
  {
   "cell_type": "code",
   "execution_count": 10,
   "id": "a4e495e4",
   "metadata": {},
   "outputs": [],
   "source": [
    "# Train and evaluate\n",
    "models = [(\"LogReg\", pipe_lr), (\"RandomForest\", pipe_rf), (\"HGB\", pipe_hgb)]\n",
    "scores = []\n",
    "for name, pipe in models:\n",
    "    pipe.fit(X_train, y_train)\n",
    "    pred = pipe.predict(X_test)\n",
    "    acc = accuracy_score(y_test, pred)\n",
    "    f1m = f1_score(y_test, pred, average=\"macro\")\n",
    "    scores.append((name, pipe, pred, acc, f1m))\n"
   ]
  },
  {
   "cell_type": "code",
   "execution_count": 11,
   "id": "05acb052",
   "metadata": {},
   "outputs": [
    {
     "name": "stdout",
     "output_type": "stream",
     "text": [
      "Model: LogReg\n",
      "Accuracy: 0.9268\n",
      "F1-macro: 0.7331\n",
      "\n",
      "Classification Report:\n",
      "                         precision    recall  f1-score   support\n",
      "\n",
      "         0=Blood Donor       0.99      0.95      0.97       107\n",
      "0s=suspect Blood Donor       0.50      1.00      0.67         1\n",
      "           1=Hepatitis       0.43      0.60      0.50         5\n",
      "            2=Fibrosis       0.67      1.00      0.80         4\n",
      "           3=Cirrhosis       0.80      0.67      0.73         6\n",
      "\n",
      "              accuracy                           0.93       123\n",
      "             macro avg       0.68      0.84      0.73       123\n",
      "          weighted avg       0.94      0.93      0.93       123\n",
      "\n",
      "\n",
      "Confusion Matrix:\n",
      " [[102   0   4   0   1]\n",
      " [  0   1   0   0   0]\n",
      " [  1   0   3   1   0]\n",
      " [  0   0   0   4   0]\n",
      " [  0   1   0   1   4]]\n"
     ]
    }
   ],
   "source": [
    "# Select best by macro-F1\n",
    "best_name, best_pipe, best_pred, best_acc, best_f1 = sorted(scores, key=lambda z: z[4], reverse=True)[0]\n",
    "\n",
    "print(f\"Model: {best_name}\")\n",
    "print(f\"Accuracy: {best_acc:.4f}\")\n",
    "print(f\"F1-macro: {best_f1:.4f}\")\n",
    "print(\"\\nClassification Report:\\n\", classification_report(y_test, best_pred))\n",
    "print(\"\\nConfusion Matrix:\\n\", confusion_matrix(y_test, best_pred))\n"
   ]
  },
  {
   "cell_type": "code",
   "execution_count": 12,
   "id": "a7d7d021",
   "metadata": {},
   "outputs": [
    {
     "name": "stdout",
     "output_type": "stream",
     "text": [
      "\n",
      "Saved:\n",
      "Model-> C:\\Users\\lokan\\OneDrive\\Desktop\\DSP PROJECT\\23MID0355-blood_model_LogReg.pkl\n",
      "Preds-> C:\\Users\\lokan\\OneDrive\\Desktop\\DSP PROJECT\\blood_predictions.csv\n"
     ]
    }
   ],
   "source": [
    "# Save model and predictions\n",
    "model_path = os.path.join(save_dir, f\"23MID0355-blood_model_{best_name}.pkl\")\n",
    "pred_path = os.path.join(save_dir, \"blood_predictions.csv\")\n",
    "joblib.dump(best_pipe, model_path)\n",
    "\n",
    "out = X_test.copy()\n",
    "out[target_col] = y_test.values\n",
    "out[\"pred\"] = best_pred\n",
    "out.to_csv(pred_path, index=False)\n",
    "\n",
    "print(\"\\nSaved:\")\n",
    "print(\"Model->\", model_path)\n",
    "print(\"Preds->\",pred_path)"
   ]
  },
  {
   "cell_type": "code",
   "execution_count": null,
   "id": "cb3aac12",
   "metadata": {},
   "outputs": [],
   "source": []
  }
 ],
 "metadata": {
  "kernelspec": {
   "display_name": "venv",
   "language": "python",
   "name": "python3"
  },
  "language_info": {
   "codemirror_mode": {
    "name": "ipython",
    "version": 3
   },
   "file_extension": ".py",
   "mimetype": "text/x-python",
   "name": "python",
   "nbconvert_exporter": "python",
   "pygments_lexer": "ipython3",
   "version": "3.10.0"
  }
 },
 "nbformat": 4,
 "nbformat_minor": 5
}
